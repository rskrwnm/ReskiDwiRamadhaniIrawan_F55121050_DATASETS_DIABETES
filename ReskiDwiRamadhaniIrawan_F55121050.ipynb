{
  "nbformat": 4,
  "nbformat_minor": 0,
  "metadata": {
    "colab": {
      "provenance": [],
      "authorship_tag": "ABX9TyPezCSqNj5Sq1oER8xGtgZi",
      "include_colab_link": true
    },
    "kernelspec": {
      "name": "python3",
      "display_name": "Python 3"
    },
    "language_info": {
      "name": "python"
    }
  },
  "cells": [
    {
      "cell_type": "markdown",
      "metadata": {
        "id": "view-in-github",
        "colab_type": "text"
      },
      "source": [
        "<a href=\"https://colab.research.google.com/github/rskrwnm/ReskiDwiRamadhaniIrawan_F55121050_DATASETS_DIABETES/blob/main/ReskiDwiRamadhaniIrawan_F55121050.ipynb\" target=\"_parent\"><img src=\"https://colab.research.google.com/assets/colab-badge.svg\" alt=\"Open In Colab\"/></a>"
      ]
    },
    {
      "cell_type": "code",
      "execution_count": 102,
      "metadata": {
        "id": "Psa1lgynrZ1C"
      },
      "outputs": [],
      "source": [
        "import numpy as np\n",
        "import pandas as pd\n",
        "import matplotlib.pyplot as plt\n",
        "from sklearn.linear_model import LogisticRegression\n",
        "from sklearn import datasets\n",
        "import seaborn as sn\n",
        "from sklearn import svm\n",
        "from sklearn import metrics\n",
        "from sklearn.model_selection import train_test_split"
      ]
    },
    {
      "cell_type": "code",
      "source": [
        "diabetes = datasets.load_diabetes()"
      ],
      "metadata": {
        "id": "eWzOgaiNspAw"
      },
      "execution_count": 103,
      "outputs": []
    },
    {
      "cell_type": "code",
      "source": [
        "print(\"Features: \", diabetes.feature_names)"
      ],
      "metadata": {
        "colab": {
          "base_uri": "https://localhost:8080/"
        },
        "id": "qkXf5b4gs3M_",
        "outputId": "84746d8c-9f20-4f59-a41e-c30c4a0f51a0"
      },
      "execution_count": 104,
      "outputs": [
        {
          "output_type": "stream",
          "name": "stdout",
          "text": [
            "Features:  ['age', 'sex', 'bmi', 'bp', 's1', 's2', 's3', 's4', 's5', 's6']\n"
          ]
        }
      ]
    },
    {
      "cell_type": "code",
      "source": [
        "print(diabetes.data.shape)"
      ],
      "metadata": {
        "colab": {
          "base_uri": "https://localhost:8080/"
        },
        "id": "SkVajgketKGB",
        "outputId": "73196913-3bf2-4d11-d653-698d8aba8dc4"
      },
      "execution_count": 105,
      "outputs": [
        {
          "output_type": "stream",
          "name": "stdout",
          "text": [
            "(442, 10)\n"
          ]
        }
      ]
    },
    {
      "cell_type": "code",
      "source": [
        "print(diabetes.data[0:5])"
      ],
      "metadata": {
        "colab": {
          "base_uri": "https://localhost:8080/"
        },
        "id": "woeyoPjztg-W",
        "outputId": "d2e64dc7-5a77-4af5-b0cb-48ab733dcde8"
      },
      "execution_count": 106,
      "outputs": [
        {
          "output_type": "stream",
          "name": "stdout",
          "text": [
            "[[ 0.03807591  0.05068012  0.06169621  0.02187235 -0.0442235  -0.03482076\n",
            "  -0.04340085 -0.00259226  0.01990842 -0.01764613]\n",
            " [-0.00188202 -0.04464164 -0.05147406 -0.02632783 -0.00844872 -0.01916334\n",
            "   0.07441156 -0.03949338 -0.06832974 -0.09220405]\n",
            " [ 0.08529891  0.05068012  0.04445121 -0.00567061 -0.04559945 -0.03419447\n",
            "  -0.03235593 -0.00259226  0.00286377 -0.02593034]\n",
            " [-0.08906294 -0.04464164 -0.01159501 -0.03665645  0.01219057  0.02499059\n",
            "  -0.03603757  0.03430886  0.02269202 -0.00936191]\n",
            " [ 0.00538306 -0.04464164 -0.03638469  0.02187235  0.00393485  0.01559614\n",
            "   0.00814208 -0.00259226 -0.03199144 -0.04664087]]\n"
          ]
        }
      ]
    },
    {
      "cell_type": "code",
      "source": [
        "from sklearn.model_selection import train_test_split"
      ],
      "metadata": {
        "id": "UGfSfhtpzpDl"
      },
      "execution_count": 107,
      "outputs": []
    },
    {
      "cell_type": "code",
      "source": [
        "X_train, X_test, y_train, y_test = train_test_split(diabetes.data, diabetes.target,\n",
        "test_size=0.3,random_state=109) # 70% training and 30% test"
      ],
      "metadata": {
        "id": "jHyaQk1XtwaJ"
      },
      "execution_count": 108,
      "outputs": []
    },
    {
      "cell_type": "code",
      "source": [
        "clf = svm.SVC(kernel='linear') # Linear Kernel"
      ],
      "metadata": {
        "id": "6uIydbTMuyIl"
      },
      "execution_count": 109,
      "outputs": []
    },
    {
      "cell_type": "code",
      "source": [
        "clf.fit(X_train, y_train)"
      ],
      "metadata": {
        "colab": {
          "base_uri": "https://localhost:8080/"
        },
        "id": "Hnh03VzSu_FG",
        "outputId": "994250c7-d3e7-4385-b704-a2472f2434d1"
      },
      "execution_count": 110,
      "outputs": [
        {
          "output_type": "execute_result",
          "data": {
            "text/plain": [
              "SVC(kernel='linear')"
            ]
          },
          "metadata": {},
          "execution_count": 110
        }
      ]
    },
    {
      "cell_type": "code",
      "source": [
        "y_pred = clf.predict(X_test)"
      ],
      "metadata": {
        "id": "AwdJzoX2vBOj"
      },
      "execution_count": 111,
      "outputs": []
    },
    {
      "cell_type": "code",
      "source": [
        "y_pred"
      ],
      "metadata": {
        "colab": {
          "base_uri": "https://localhost:8080/"
        },
        "id": "PKQZQTjj0JIy",
        "outputId": "c0251be3-c5ac-4045-fc46-4857ebab8784"
      },
      "execution_count": 112,
      "outputs": [
        {
          "output_type": "execute_result",
          "data": {
            "text/plain": [
              "array([71., 72., 71., 71., 71., 71., 71., 71., 71., 71., 71., 71., 72.,\n",
              "       71., 71., 71., 72., 71., 72., 72., 71., 71., 72., 71., 71., 72.,\n",
              "       71., 71., 71., 71., 72., 71., 71., 71., 71., 71., 72., 72., 71.,\n",
              "       72., 72., 71., 71., 71., 71., 71., 72., 72., 72., 71., 71., 71.,\n",
              "       71., 71., 71., 71., 71., 72., 71., 71., 71., 71., 71., 71., 72.,\n",
              "       71., 72., 72., 71., 71., 71., 71., 72., 71., 72., 71., 72., 72.,\n",
              "       71., 72., 71., 72., 72., 71., 72., 71., 72., 71., 71., 72., 72.,\n",
              "       71., 71., 71., 72., 71., 72., 71., 72., 71., 71., 71., 71., 72.,\n",
              "       71., 71., 72., 71., 71., 71., 72., 72., 71., 72., 72., 71., 72.,\n",
              "       71., 71., 72., 71., 71., 71., 71., 71., 72., 72., 71., 71., 71.,\n",
              "       71., 71., 71.])"
            ]
          },
          "metadata": {},
          "execution_count": 112
        }
      ]
    },
    {
      "cell_type": "code",
      "source": [
        "y_test"
      ],
      "metadata": {
        "colab": {
          "base_uri": "https://localhost:8080/"
        },
        "id": "PeViHjas0Mn5",
        "outputId": "84a8d31f-a857-40f9-f9ba-a53799bfb452"
      },
      "execution_count": 113,
      "outputs": [
        {
          "output_type": "execute_result",
          "data": {
            "text/plain": [
              "array([150.,  93., 102., 178.,  83., 202., 142.,  25.,  50.,  70., 138.,\n",
              "       166., 200., 128., 259., 277.,  51., 170.,  94., 131., 281., 212.,\n",
              "        64., 144., 214.,  75.,  44., 178., 243., 144.,  48., 310.,  53.,\n",
              "       187., 248., 235.,  72., 128., 142.,  65.,  81., 192., 186.,  92.,\n",
              "       281., 259., 128.,  60.,  78., 200., 142., 172., 189., 202., 243.,\n",
              "       275., 265., 182., 279.,  48., 221., 111., 178., 200.,  84., 132.,\n",
              "       242.,  77., 150., 249., 232.,  49., 113., 220.,  95., 197.,  59.,\n",
              "       276.,  52.,  49., 175.,  99., 179., 118.,  90.,  88., 144., 275.,\n",
              "       150., 158.,  49.,  80., 113., 321.,  87., 263.,  79., 164., 182.,\n",
              "        45.,  93., 206.,  47.,  90., 185., 136.,  88.,  39., 235., 185.,\n",
              "        97., 141.,  91., 168.,  60., 275.,  53., 244., 152.,  48., 116.,\n",
              "        78., 202., 190.,  85., 111.,  83., 110.,  88.,  66.,  66.,  67.,\n",
              "       116.])"
            ]
          },
          "metadata": {},
          "execution_count": 113
        }
      ]
    },
    {
      "cell_type": "code",
      "source": [
        "print(\"Accuracy:\",metrics.accuracy_score(y_test, y_pred))"
      ],
      "metadata": {
        "colab": {
          "base_uri": "https://localhost:8080/"
        },
        "id": "xhp-3_i0vKo2",
        "outputId": "2c5f912e-c34c-4d33-963f-668094a5bfdb"
      },
      "execution_count": 114,
      "outputs": [
        {
          "output_type": "stream",
          "name": "stdout",
          "text": [
            "Accuracy: 0.007518796992481203\n"
          ]
        }
      ]
    },
    {
      "cell_type": "code",
      "source": [
        "from sklearn.metrics import confusion_matrix\n",
        "confusion_matrix(y_test, y_pred)"
      ],
      "metadata": {
        "colab": {
          "base_uri": "https://localhost:8080/"
        },
        "id": "9u8OEpM4vTQh",
        "outputId": "d7548d0f-0702-4397-962a-5efad8c89ceb"
      },
      "execution_count": 115,
      "outputs": [
        {
          "output_type": "execute_result",
          "data": {
            "text/plain": [
              "array([[0, 0, 0, ..., 0, 0, 0],\n",
              "       [0, 0, 0, ..., 0, 0, 0],\n",
              "       [0, 0, 0, ..., 0, 0, 0],\n",
              "       ...,\n",
              "       [0, 0, 0, ..., 0, 0, 0],\n",
              "       [0, 0, 0, ..., 0, 0, 0],\n",
              "       [0, 0, 0, ..., 0, 0, 0]])"
            ]
          },
          "metadata": {},
          "execution_count": 115
        }
      ]
    },
    {
      "cell_type": "code",
      "source": [
        "from sklearn.metrics import classification_report\n",
        "print(classification_report(y_test, y_pred))"
      ],
      "metadata": {
        "colab": {
          "base_uri": "https://localhost:8080/"
        },
        "id": "tc22vwE21m-f",
        "outputId": "9f5aab01-1922-49fe-dc22-fb1abf09f1e1"
      },
      "execution_count": 116,
      "outputs": [
        {
          "output_type": "stream",
          "name": "stdout",
          "text": [
            "              precision    recall  f1-score   support\n",
            "\n",
            "        25.0       0.00      0.00      0.00         1\n",
            "        39.0       0.00      0.00      0.00         1\n",
            "        44.0       0.00      0.00      0.00         1\n",
            "        45.0       0.00      0.00      0.00         1\n",
            "        47.0       0.00      0.00      0.00         1\n",
            "        48.0       0.00      0.00      0.00         3\n",
            "        49.0       0.00      0.00      0.00         3\n",
            "        50.0       0.00      0.00      0.00         1\n",
            "        51.0       0.00      0.00      0.00         1\n",
            "        52.0       0.00      0.00      0.00         1\n",
            "        53.0       0.00      0.00      0.00         2\n",
            "        59.0       0.00      0.00      0.00         1\n",
            "        60.0       0.00      0.00      0.00         2\n",
            "        64.0       0.00      0.00      0.00         1\n",
            "        65.0       0.00      0.00      0.00         1\n",
            "        66.0       0.00      0.00      0.00         2\n",
            "        67.0       0.00      0.00      0.00         1\n",
            "        70.0       0.00      0.00      0.00         1\n",
            "        71.0       0.00      0.00      0.00         0\n",
            "        72.0       0.02      1.00      0.05         1\n",
            "        75.0       0.00      0.00      0.00         1\n",
            "        77.0       0.00      0.00      0.00         1\n",
            "        78.0       0.00      0.00      0.00         2\n",
            "        79.0       0.00      0.00      0.00         1\n",
            "        80.0       0.00      0.00      0.00         1\n",
            "        81.0       0.00      0.00      0.00         1\n",
            "        83.0       0.00      0.00      0.00         2\n",
            "        84.0       0.00      0.00      0.00         1\n",
            "        85.0       0.00      0.00      0.00         1\n",
            "        87.0       0.00      0.00      0.00         1\n",
            "        88.0       0.00      0.00      0.00         3\n",
            "        90.0       0.00      0.00      0.00         2\n",
            "        91.0       0.00      0.00      0.00         1\n",
            "        92.0       0.00      0.00      0.00         1\n",
            "        93.0       0.00      0.00      0.00         2\n",
            "        94.0       0.00      0.00      0.00         1\n",
            "        95.0       0.00      0.00      0.00         1\n",
            "        97.0       0.00      0.00      0.00         1\n",
            "        99.0       0.00      0.00      0.00         1\n",
            "       102.0       0.00      0.00      0.00         1\n",
            "       110.0       0.00      0.00      0.00         1\n",
            "       111.0       0.00      0.00      0.00         2\n",
            "       113.0       0.00      0.00      0.00         2\n",
            "       116.0       0.00      0.00      0.00         2\n",
            "       118.0       0.00      0.00      0.00         1\n",
            "       128.0       0.00      0.00      0.00         3\n",
            "       131.0       0.00      0.00      0.00         1\n",
            "       132.0       0.00      0.00      0.00         1\n",
            "       136.0       0.00      0.00      0.00         1\n",
            "       138.0       0.00      0.00      0.00         1\n",
            "       141.0       0.00      0.00      0.00         1\n",
            "       142.0       0.00      0.00      0.00         3\n",
            "       144.0       0.00      0.00      0.00         3\n",
            "       150.0       0.00      0.00      0.00         3\n",
            "       152.0       0.00      0.00      0.00         1\n",
            "       158.0       0.00      0.00      0.00         1\n",
            "       164.0       0.00      0.00      0.00         1\n",
            "       166.0       0.00      0.00      0.00         1\n",
            "       168.0       0.00      0.00      0.00         1\n",
            "       170.0       0.00      0.00      0.00         1\n",
            "       172.0       0.00      0.00      0.00         1\n",
            "       175.0       0.00      0.00      0.00         1\n",
            "       178.0       0.00      0.00      0.00         3\n",
            "       179.0       0.00      0.00      0.00         1\n",
            "       182.0       0.00      0.00      0.00         2\n",
            "       185.0       0.00      0.00      0.00         2\n",
            "       186.0       0.00      0.00      0.00         1\n",
            "       187.0       0.00      0.00      0.00         1\n",
            "       189.0       0.00      0.00      0.00         1\n",
            "       190.0       0.00      0.00      0.00         1\n",
            "       192.0       0.00      0.00      0.00         1\n",
            "       197.0       0.00      0.00      0.00         1\n",
            "       200.0       0.00      0.00      0.00         3\n",
            "       202.0       0.00      0.00      0.00         3\n",
            "       206.0       0.00      0.00      0.00         1\n",
            "       212.0       0.00      0.00      0.00         1\n",
            "       214.0       0.00      0.00      0.00         1\n",
            "       220.0       0.00      0.00      0.00         1\n",
            "       221.0       0.00      0.00      0.00         1\n",
            "       232.0       0.00      0.00      0.00         1\n",
            "       235.0       0.00      0.00      0.00         2\n",
            "       242.0       0.00      0.00      0.00         1\n",
            "       243.0       0.00      0.00      0.00         2\n",
            "       244.0       0.00      0.00      0.00         1\n",
            "       248.0       0.00      0.00      0.00         1\n",
            "       249.0       0.00      0.00      0.00         1\n",
            "       259.0       0.00      0.00      0.00         2\n",
            "       263.0       0.00      0.00      0.00         1\n",
            "       265.0       0.00      0.00      0.00         1\n",
            "       275.0       0.00      0.00      0.00         3\n",
            "       276.0       0.00      0.00      0.00         1\n",
            "       277.0       0.00      0.00      0.00         1\n",
            "       279.0       0.00      0.00      0.00         1\n",
            "       281.0       0.00      0.00      0.00         2\n",
            "       310.0       0.00      0.00      0.00         1\n",
            "       321.0       0.00      0.00      0.00         1\n",
            "\n",
            "    accuracy                           0.01       133\n",
            "   macro avg       0.00      0.01      0.00       133\n",
            "weighted avg       0.00      0.01      0.00       133\n",
            "\n"
          ]
        },
        {
          "output_type": "stream",
          "name": "stderr",
          "text": [
            "/usr/local/lib/python3.7/dist-packages/sklearn/metrics/_classification.py:1318: UndefinedMetricWarning: Precision and F-score are ill-defined and being set to 0.0 in labels with no predicted samples. Use `zero_division` parameter to control this behavior.\n",
            "  _warn_prf(average, modifier, msg_start, len(result))\n",
            "/usr/local/lib/python3.7/dist-packages/sklearn/metrics/_classification.py:1318: UndefinedMetricWarning: Recall and F-score are ill-defined and being set to 0.0 in labels with no true samples. Use `zero_division` parameter to control this behavior.\n",
            "  _warn_prf(average, modifier, msg_start, len(result))\n",
            "/usr/local/lib/python3.7/dist-packages/sklearn/metrics/_classification.py:1318: UndefinedMetricWarning: Precision and F-score are ill-defined and being set to 0.0 in labels with no predicted samples. Use `zero_division` parameter to control this behavior.\n",
            "  _warn_prf(average, modifier, msg_start, len(result))\n",
            "/usr/local/lib/python3.7/dist-packages/sklearn/metrics/_classification.py:1318: UndefinedMetricWarning: Recall and F-score are ill-defined and being set to 0.0 in labels with no true samples. Use `zero_division` parameter to control this behavior.\n",
            "  _warn_prf(average, modifier, msg_start, len(result))\n",
            "/usr/local/lib/python3.7/dist-packages/sklearn/metrics/_classification.py:1318: UndefinedMetricWarning: Precision and F-score are ill-defined and being set to 0.0 in labels with no predicted samples. Use `zero_division` parameter to control this behavior.\n",
            "  _warn_prf(average, modifier, msg_start, len(result))\n",
            "/usr/local/lib/python3.7/dist-packages/sklearn/metrics/_classification.py:1318: UndefinedMetricWarning: Recall and F-score are ill-defined and being set to 0.0 in labels with no true samples. Use `zero_division` parameter to control this behavior.\n",
            "  _warn_prf(average, modifier, msg_start, len(result))\n"
          ]
        }
      ]
    },
    {
      "cell_type": "code",
      "source": [
        "cm = confusion_matrix(y_test, y_pred)"
      ],
      "metadata": {
        "id": "k25qVJ4XEOdO"
      },
      "execution_count": 117,
      "outputs": []
    },
    {
      "cell_type": "code",
      "source": [
        "%matplotlib inline\n",
        "plt.figure (figsize=(10,7))\n",
        "sn.heatmap(cm, annot=True)\n",
        "plt.xlabel('Predicted')\n",
        "plt.ylabel('Truth')"
      ],
      "metadata": {
        "colab": {
          "base_uri": "https://localhost:8080/",
          "height": 463
        },
        "id": "zj6XJiYCF3VX",
        "outputId": "f45087b9-435d-4dc1-8ff0-e3acb3958c32"
      },
      "execution_count": 118,
      "outputs": [
        {
          "output_type": "execute_result",
          "data": {
            "text/plain": [
              "Text(69.0, 0.5, 'Truth')"
            ]
          },
          "metadata": {},
          "execution_count": 118
        },
        {
          "output_type": "display_data",
          "data": {
            "text/plain": [
              "<Figure size 720x504 with 2 Axes>"
            ],
            "image/png": "[encoded data removed]"
          },
          "metadata": {
            "needs_background": "light"
          }
        }
      ]
    }
  ]
}